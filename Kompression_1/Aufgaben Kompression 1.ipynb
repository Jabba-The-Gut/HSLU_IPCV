{
 "cells": [
  {
   "cell_type": "markdown",
   "metadata": {},
   "source": [
    "## Aufgabe 2"
   ]
  },
  {
   "cell_type": "code",
   "execution_count": 198,
   "metadata": {},
   "outputs": [],
   "source": [
    "import numpy as np\n",
    "from numpy import linalg as LA\n",
    "import matplotlib.pyplot as plt\n",
    "from PIL import Image\n",
    "import cv2\n",
    "import random"
   ]
  },
  {
   "cell_type": "code",
   "execution_count": 199,
   "metadata": {},
   "outputs": [],
   "source": [
    "N = 2"
   ]
  },
  {
   "cell_type": "code",
   "execution_count": 200,
   "metadata": {},
   "outputs": [],
   "source": [
    "def init_transformation_matrix(N):\n",
    "    C = np.zeros(shape=(N,N))\n",
    "    for i in range(N):\n",
    "        for j in range(N):\n",
    "            if i == 0:\n",
    "                cn = np.sqrt(1/N)\n",
    "            else:\n",
    "                cn = np.sqrt(2/N)\n",
    "            C[i][j] = cn * np.cos((2*j+1)*i*np.pi/(2*N))\n",
    "    return C"
   ]
  },
  {
   "cell_type": "code",
   "execution_count": 201,
   "metadata": {},
   "outputs": [
    {
     "name": "stdout",
     "output_type": "stream",
     "text": [
      "[[ 0.5         0.5         0.5         0.5       ]\n",
      " [ 0.65328148  0.27059805 -0.27059805 -0.65328148]\n",
      " [ 0.5        -0.5        -0.5         0.5       ]\n",
      " [ 0.27059805 -0.65328148  0.65328148 -0.27059805]]\n"
     ]
    }
   ],
   "source": [
    "C_2 = init_transformation_matrix(2)\n",
    "C_4 = init_transformation_matrix(4)\n",
    "C_8 = init_transformation_matrix(8)\n",
    "C_16 = init_transformation_matrix(16)\n",
    "print(C)"
   ]
  },
  {
   "cell_type": "code",
   "execution_count": 202,
   "metadata": {},
   "outputs": [
    {
     "name": "stdout",
     "output_type": "stream",
     "text": [
      "2.220446049250313e-16\n"
     ]
    }
   ],
   "source": [
    "print(np.max(abs(LA.inv(C_2) - C_2.T)))"
   ]
  },
  {
   "cell_type": "code",
   "execution_count": 203,
   "metadata": {},
   "outputs": [
    {
     "name": "stdout",
     "output_type": "stream",
     "text": [
      "3.3306690738754696e-16\n"
     ]
    }
   ],
   "source": [
    "print(np.max(abs(LA.inv(C_4) - C_4.T)))"
   ]
  },
  {
   "cell_type": "code",
   "execution_count": 204,
   "metadata": {},
   "outputs": [
    {
     "name": "stdout",
     "output_type": "stream",
     "text": [
      "4.440892098500626e-16\n"
     ]
    }
   ],
   "source": [
    "print(np.max(abs(LA.inv(C_8) - C_8.T)))"
   ]
  },
  {
   "cell_type": "code",
   "execution_count": 205,
   "metadata": {},
   "outputs": [
    {
     "name": "stdout",
     "output_type": "stream",
     "text": [
      "1.7486012637846216e-15\n"
     ]
    }
   ],
   "source": [
    "print(np.max(abs(LA.inv(C_16) - C_16.T)))"
   ]
  },
  {
   "cell_type": "markdown",
   "metadata": {},
   "source": [
    "##### This proves that C inverted is equal to C transported. Because if we change Ci = Ct to Ci - Ct = 0, then we have the above result. And if this is true, the difference should be zero. It isn't because python is doing numerical errors (rounding)"
   ]
  },
  {
   "cell_type": "markdown",
   "metadata": {},
   "source": [
    "## Aufgabe 3"
   ]
  },
  {
   "cell_type": "markdown",
   "metadata": {},
   "source": [
    "$\\mathbf{y}$ / $\\mathbf{C}$ = $\\mathbf{x}$"
   ]
  },
  {
   "cell_type": "markdown",
   "metadata": {},
   "source": [
    " # Fuktionen fuer DCT"
   ]
  },
  {
   "cell_type": "code",
   "execution_count": 206,
   "metadata": {},
   "outputs": [],
   "source": [
    "def CMatrix(N):\n",
    "    C = np.zeros(shape=(N,N))\n",
    "    for n in range(N):\n",
    "        for k in range(N):\n",
    "            if n == 0:\n",
    "                c_n = np.sqrt(1/N)\n",
    "            else:\n",
    "                c_n = np.sqrt(2/N)\n",
    "            C[n][k] = c_n * np.cos((2*k+1)*n*np.pi/(2*N))\n",
    "    return C\n",
    "    \n",
    "C = CMatrix(N=4)"
   ]
  },
  {
   "cell_type": "code",
   "execution_count": 207,
   "metadata": {},
   "outputs": [],
   "source": [
    "def dct2d(X):\n",
    "    CL = CMatrix(X.shape[0]) # m\n",
    "    CR = CMatrix(X.shape[1]) # n\n",
    "    Y = np.dot(np.dot(CL, X), CR.T)\n",
    "    return Y\n",
    "\n",
    "def idct2d(Y):\n",
    "    CL = CMatrix(Y.shape[0]) # m\n",
    "    CR = CMatrix(Y.shape[1]) # n\n",
    "    X = np.dot(np.dot(CL.T, Y), CR)\n",
    "    return X\n",
    "    \n",
    "def compress(Y, thresh):\n",
    "    Y[abs(Y) < thresh] = 0\n",
    "    return Y"
   ]
  },
  {
   "cell_type": "markdown",
   "metadata": {},
   "source": [
    "## Aufgabe 4"
   ]
  },
  {
   "cell_type": "code",
   "execution_count": 208,
   "metadata": {},
   "outputs": [
    {
     "data": {
      "text/plain": [
       "<matplotlib.image.AxesImage at 0x11a8398e0>"
      ]
     },
     "execution_count": 208,
     "metadata": {},
     "output_type": "execute_result"
    },
    {
     "data": {
      "image/png": "[encoded data removed]",
      "text/plain": [
       "<Figure size 432x288 with 1 Axes>"
      ]
     },
     "metadata": {
      "needs_background": "light"
     },
     "output_type": "display_data"
    }
   ],
   "source": [
    "N = 8\n",
    "# create image \n",
    "array = np.zeros([N, N], dtype=np.uint8)\n",
    "# every pixel is white\n",
    "array[:][:] = 255\n",
    "# set pixel in shape of circle to black\n",
    "array[1][3] = 0\n",
    "array[1][4] = 0\n",
    "array[2][2] = 0\n",
    "array[2][5] = 0\n",
    "array[3][1] = 0\n",
    "array[3][6] = 0\n",
    "array[4][1] = 0\n",
    "array[4][6] = 0\n",
    "array[5][2] = 0\n",
    "array[5][5] = 0\n",
    "array[6][3] = 0\n",
    "array[6][4] = 0\n",
    "plt.imshow(array, cmap='gray')"
   ]
  },
  {
   "cell_type": "code",
   "execution_count": 209,
   "metadata": {},
   "outputs": [],
   "source": [
    "# compress the image with the given compressing rates\n",
    "def compress_imgs(img, rates):\n",
    "    index = 0\n",
    "    images = {}\n",
    "    for rate in rates:\n",
    "        image_compressed = dct2d(img)\n",
    "        image_compressed = compress(image_compressed, rate)\n",
    "        image_compressed =  idct2d(image_compressed)\n",
    "        images[index] = image_compressed\n",
    "        index = index + 1\n",
    "    return images"
   ]
  },
  {
   "cell_type": "code",
   "execution_count": 210,
   "metadata": {},
   "outputs": [
    {
     "data": {
      "text/plain": [
       "<matplotlib.image.AxesImage at 0x11a968c10>"
      ]
     },
     "execution_count": 210,
     "metadata": {},
     "output_type": "execute_result"
    },
    {
     "data": {
      "image/png": "[encoded data removed]",
      "text/plain": [
       "<Figure size 432x288 with 4 Axes>"
      ]
     },
     "metadata": {
      "needs_background": "light"
     },
     "output_type": "display_data"
    }
   ],
   "source": [
    "rates = [90,70,50,30]\n",
    "compressed_images = compress_imgs(array, rates)\n",
    "plt.subplot(221)\n",
    "plt.imshow(compressed_images[0], cmap='gray')\n",
    "plt.subplot(222)\n",
    "plt.imshow(compressed_images[1], cmap='gray')\n",
    "plt.subplot(223)\n",
    "plt.imshow(compressed_images[2], cmap='gray')\n",
    "plt.subplot(224)\n",
    "plt.imshow(compressed_images[3], cmap='gray')"
   ]
  },
  {
   "cell_type": "markdown",
   "metadata": {},
   "source": [
    "## Aufgabe 5"
   ]
  },
  {
   "cell_type": "code",
   "execution_count": 215,
   "metadata": {},
   "outputs": [
    {
     "data": {
      "text/plain": [
       "<matplotlib.image.AxesImage at 0x11ac23220>"
      ]
     },
     "execution_count": 215,
     "metadata": {},
     "output_type": "execute_result"
    },
    {
     "data": {
      "image/png": "[encoded data removed]",
      "text/plain": [
       "<Figure size 432x288 with 1 Axes>"
      ]
     },
     "metadata": {
      "needs_background": "light"
     },
     "output_type": "display_data"
    }
   ],
   "source": [
    "N = 16\n",
    "# create image \n",
    "array = np.zeros([N, N], dtype=np.uint8)\n",
    "# every pixel is white\n",
    "array[:][:] = 255\n",
    "# generate random shapes\n",
    "for i in range(100):\n",
    "    array[random.randint(0,15)][random.randint(0,15)] = 0\n",
    "plt.imshow(array, cmap='gray')"
   ]
  },
  {
   "cell_type": "code",
   "execution_count": 216,
   "metadata": {},
   "outputs": [
    {
     "data": {
      "text/plain": [
       "<matplotlib.image.AxesImage at 0x11ad4f220>"
      ]
     },
     "execution_count": 216,
     "metadata": {},
     "output_type": "execute_result"
    },
    {
     "data": {
      "image/png": "[encoded data removed]",
      "text/plain": [
       "<Figure size 432x288 with 4 Axes>"
      ]
     },
     "metadata": {
      "needs_background": "light"
     },
     "output_type": "display_data"
    }
   ],
   "source": [
    "rates = [90,70,50,30]\n",
    "compressed_images = compress_imgs(array, rates)\n",
    "plt.subplot(221)\n",
    "plt.imshow(compressed_images[0], cmap='gray')\n",
    "plt.subplot(222)\n",
    "plt.imshow(compressed_images[1], cmap='gray')\n",
    "plt.subplot(223)\n",
    "plt.imshow(compressed_images[2], cmap='gray')\n",
    "plt.subplot(224)\n",
    "plt.imshow(compressed_images[3], cmap='gray')"
   ]
  },
  {
   "cell_type": "code",
   "execution_count": null,
   "metadata": {},
   "outputs": [],
   "source": []
  }
 ],
 "metadata": {
  "kernelspec": {
   "display_name": "Python 3",
   "language": "python",
   "name": "python3"
  },
  "language_info": {
   "codemirror_mode": {
    "name": "ipython",
    "version": 3
   },
   "file_extension": ".py",
   "mimetype": "text/x-python",
   "name": "python",
   "nbconvert_exporter": "python",
   "pygments_lexer": "ipython3",
   "version": "3.8.1"
  }
 },
 "nbformat": 4,
 "nbformat_minor": 4
}
