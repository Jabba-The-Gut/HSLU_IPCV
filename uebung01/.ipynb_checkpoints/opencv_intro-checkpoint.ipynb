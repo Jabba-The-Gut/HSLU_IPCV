{
 "cells": [
  {
   "cell_type": "markdown",
   "metadata": {
    "collapsed": true
   },
   "source": [
    "## Einführung in OpenCV mit python"
   ]
  },
  {
   "cell_type": "markdown",
   "metadata": {},
   "source": [
    "### Installation OpenCV:\n",
    "\n",
    "OpenCV kann am einfachsten mit dem python installer pip installiert werden. Je nach Umgebung oder aufgesetzter python Version ist das `pip` oder `pip3`. Wir werden in der Vorlesung mit python Version 3.5 (oder später) arbeiten.\n",
    "\n",
    "    pip install opencv-contrib-python\n",
    "\n",
    "oder \n",
    "\n",
    "    pip3 install opencv-contrib-python\n",
    "\n",
    "Dies installiert sowohl die python Bindings für OpenCV, wie auch die eigentliche OpenCV Bibliothek.\n",
    "\n",
    "### Dokumentation\n",
    "Documentation von OpenCV gibt es auf:\n",
    "\n",
    "https://docs.opencv.org/3.4.0/\n",
    "\n",
    "\n",
    "### Verwendung\n",
    "Um OpenCV in Python verwenden zu können muss die Bibliothek importiert werden. Für Berechnungen und Darstellung brauchen wir auch noch numpy und matplotlib:"
   ]
  },
  {
   "cell_type": "code",
   "execution_count": null,
   "metadata": {},
   "outputs": [],
   "source": [
    "# OpenCV needs to be included first\n",
    "import cv2\n",
    "import numpy as np\n",
    "\n",
    "# for displaying images in jupyter\n",
    "import matplotlib as mpl\n",
    "from matplotlib import pyplot as plt\n",
    "\n",
    "# this makes the images a bit larger\n",
    "mpl.rcParams['figure.dpi']= 200\n"
   ]
  },
  {
   "cell_type": "markdown",
   "metadata": {},
   "source": [
    "### Bilder lesen\n",
    "\n",
    "Für einige Operationen gibt es sowohl in OpenCV wie auch in anderen Python Bibliotheken implementationen. Zum Beispiel zum Lesen von Bildern. Wir werden, wenn immer möglich zuerst die OpenCV Implementation verwenden.\n",
    "\n",
    "Ein Bild kann mit dem OpenCV Befehl `imread` gelesen werden:"
   ]
  },
  {
   "cell_type": "code",
   "execution_count": null,
   "metadata": {},
   "outputs": [],
   "source": [
    "image = cv2.imread('images/lena_std.tif')"
   ]
  },
  {
   "cell_type": "markdown",
   "metadata": {},
   "source": [
    "OpenCV hat auch die Möglichkeit ein Fenster zu öffnen und ein Bild darin darzustellen. Innerhalb jupyter (i.e. im Browser) funktioniert dies aber im Allgemeinen nicht. Wir können aber ein Bild mit der Matplotlib Bibliothek darstellen."
   ]
  },
  {
   "cell_type": "code",
   "execution_count": null,
   "metadata": {},
   "outputs": [],
   "source": [
    "plt.imshow(image)"
   ]
  },
  {
   "cell_type": "markdown",
   "metadata": {},
   "source": [
    "Wie wir sehen, sieht das Bild aber falsch aus. Das liegt daran, dass OpenCV das Bild in BGR Format liest, die meisten anderen Bibliotheken aber RGB erwarten. Wir können das Bild entsprechend konvertieren und nochmals darstellen."
   ]
  },
  {
   "cell_type": "code",
   "execution_count": null,
   "metadata": {},
   "outputs": [],
   "source": [
    "image_rgb= cv2.cvtColor(image, cv2.COLOR_BGR2RGB)\n",
    "plt.imshow(image_rgb)"
   ]
  },
  {
   "cell_type": "raw",
   "metadata": {},
   "source": [
    "### Numpy arrays\n",
    "\n",
    "Intern ist ein Bild als ein 3-dimensionales Numpy Array abgelegt. Numpy Arrays sind eine Erweiterung der normalen python Arrays auf mehrere Dimensionen und ermöglichen auch einfachere Operationen und Indexierung.\n",
    "\n",
    "Ein einzelner Farbwert kann direkt über die Indexierung angesprochen werden, währendem die Verwendnung von 2 Koordinaten die RGB Werte als Array liefert."
   ]
  },
  {
   "cell_type": "code",
   "execution_count": null,
   "metadata": {},
   "outputs": [],
   "source": [
    "print(image_rgb[0, 0, 0])\n",
    "print(image_rgb[0,0])"
   ]
  },
  {
   "cell_type": "markdown",
   "metadata": {},
   "source": [
    "Es können auch direkt Bereiche angesprochen werden. Dies setzt ein Teil des Bildes auf weiss:\n"
   ]
  },
  {
   "cell_type": "code",
   "execution_count": null,
   "metadata": {},
   "outputs": [],
   "source": [
    "image_rgb[100:200, 350:400] = [255, 255, 255]\n",
    "plt.imshow(image_rgb)"
   ]
  },
  {
   "cell_type": "markdown",
   "metadata": {},
   "source": [
    "Schauen Sie sich dazu in der numpy Dokumentation die Möglichkeiten der Indexierung an. Eine Übesicht über numpy Operationen gibt es auch auf\n",
    "\n",
    "https://s3.amazonaws.com/assets.datacamp.com/blog_assets/Numpy_Python_Cheat_Sheet.pdf\n",
    "\n",
    "Beachten Sie das die erste Koordinate in der Indexierung der Reihe im numpy Array entspricht, i.e. der y Koordinate im Bild.\n",
    "\n",
    "Mit numpy Arrays kann auch ein Boolean Array als Index verwendet werden, ausserdem sind Operationen direkt auf einem ganzen Array möglich. Um alle Pixel die eine Helligkeit kleiner als 100 haben, auf Schwarz zu setzen:\n"
   ]
  },
  {
   "cell_type": "code",
   "execution_count": null,
   "metadata": {},
   "outputs": [],
   "source": [
    "image_rgb = cv2.cvtColor(image, cv2.COLOR_BGR2RGB)\n",
    "image_grey = cv2.cvtColor(image, cv2.COLOR_BGR2GRAY)\n",
    "\n",
    "threshold_map = image_grey <= 128\n",
    "\n",
    "image_rgb[threshold_map] = [0, 0, 0]\n",
    "image_rgb[image_grey > 128] = [255, 255, 255]\n",
    "\n",
    "plt.imshow(image_rgb)"
   ]
  }
 ],
 "metadata": {
  "kernelspec": {
   "display_name": "Python 3",
   "language": "python",
   "name": "python3"
  },
  "language_info": {
   "codemirror_mode": {
    "name": "ipython",
    "version": 3
   },
   "file_extension": ".py",
   "mimetype": "text/x-python",
   "name": "python",
   "nbconvert_exporter": "python",
   "pygments_lexer": "ipython3",
   "version": "3.6.3"
  }
 },
 "nbformat": 4,
 "nbformat_minor": 1
}
