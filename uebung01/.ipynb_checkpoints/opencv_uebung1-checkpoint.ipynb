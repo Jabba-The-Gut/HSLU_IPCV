{
 "cells": [
  {
   "cell_type": "markdown",
   "metadata": {
    "collapsed": true
   },
   "source": [
    "# Übung 1: Bildmanipulationen mit OpenCV und numpy "
   ]
  },
  {
   "cell_type": "markdown",
   "metadata": {},
   "source": [
    "### Einführung\n",
    "\n",
    "In dieser Übung sollen einfache Bildoperationen mit OpenCV und numpy durchgeführt werden.\n",
    "\n",
    "#### Dokumentation\n",
    "Documentation von OpenCV gibt es auf:\n",
    "\n",
    "https://docs.opencv.org/3.4.0/\n",
    "\n",
    "und von numpy auf\n",
    "\n",
    "https://docs.scipy.org/doc/numpy-1.13.0/index.html\n",
    "\n",
    "(siehe auch das *Help* Menu im jupyter Fenster)"
   ]
  },
  {
   "cell_type": "code",
   "execution_count": null,
   "metadata": {},
   "outputs": [],
   "source": [
    "# OpenCV needs to be included first\n",
    "import cv2\n",
    "import numpy as np\n",
    "\n",
    "import matplotlib as mpl\n",
    "from matplotlib import pyplot as plt\n",
    "\n",
    "# this makes the images a bit larger\n",
    "mpl.rcParams['figure.dpi']= 200\n"
   ]
  },
  {
   "cell_type": "markdown",
   "metadata": {},
   "source": [
    "### Aufgabe 1: Laden und Darstellung von Bildern\n",
    "\n",
    "Die folgenden Zeilen laden ein Bild. Konvertieren Sie das Bild nach RGB und stellen Sie es dar."
   ]
  },
  {
   "cell_type": "code",
   "execution_count": null,
   "metadata": {},
   "outputs": [],
   "source": [
    "image = "
   ]
  },
  {
   "cell_type": "markdown",
   "metadata": {},
   "source": [
    "\n",
    "Spiegeln sie das Bild an der vertikalen und horizontalen Achse und stellen Sie die Bilder dar."
   ]
  },
  {
   "cell_type": "code",
   "execution_count": null,
   "metadata": {},
   "outputs": [],
   "source": [
    "image_mirror_vert = ...\n",
    "image_mirror_hor = ...\n",
    "plt.subplot(1, 2, 1)\n",
    "plt.imshow(image_mirror_vert)\n",
    "plt.subplot(1, 2, 2)\n",
    "plt.imshow(image_mirror_hor)"
   ]
  },
  {
   "cell_type": "markdown",
   "metadata": {},
   "source": [
    "### Aufgabe 2: Darstellung von Grauwert Bilder\n",
    "Konvertieren Sie das Bild in ein Grauwert Bild und stellen Sie dieses dar. Per default wird ein 1-Kanal Bild farbig mit einer default Color Map dargestellt. Um das Bild wirklich in grau zu zeichnen kann der Parameter `cmap='gray'` für `imshow` mitgegeben werden."
   ]
  },
  {
   "cell_type": "code",
   "execution_count": null,
   "metadata": {},
   "outputs": [],
   "source": [
    "image_gray = ...\n"
   ]
  },
  {
   "cell_type": "markdown",
   "metadata": {},
   "source": [
    "### Aufgabe 3: Bild Kanäle\n",
    "Stellen Sie die Anteile des rot, grün und blau Kanals einzeln (als Grauwert Bild) dar."
   ]
  },
  {
   "cell_type": "code",
   "execution_count": null,
   "metadata": {},
   "outputs": [],
   "source": [
    "image_red = ...\n",
    "image_green = ...\n",
    "image_blue = ...\n",
    "plt.subplot(1, 3, 1)\n",
    "plt.imshow(image_red, cmap='gray')\n",
    "plt.subplot(1, 3, 2)\n",
    "plt.imshow(image_green, cmap='gray')\n",
    "plt.subplot(1, 3, 3)\n",
    "plt.imshow(image_blue, cmap='gray')\n",
    "    "
   ]
  },
  {
   "cell_type": "markdown",
   "metadata": {},
   "source": [
    "Erstellen Sie nun wieder ein Farbbilder aus den 3 Kanälen, sie können die Kanäle auch anders mischen. Verwenden Sie die numpy Funktion `stack`."
   ]
  },
  {
   "cell_type": "code",
   "execution_count": null,
   "metadata": {},
   "outputs": [],
   "source": [
    "image_new = ..."
   ]
  },
  {
   "cell_type": "markdown",
   "metadata": {},
   "source": [
    "### Aufgabe 4: Plot einer Zeile\n",
    "\n",
    "Stellen Sie die Bildwerte der Zeile 200 des Grauwert Bildes als Plot dar. Dazu müssen sie die Pixelwerte einer Zeile auslesen wobei Sie wiederum ein (1D) numpy Array erhalten. Dieses kann mit `plt.plot(...)` dargestellt werden. Entspricht das Ergebnis den Erwartungen?"
   ]
  },
  {
   "cell_type": "code",
   "execution_count": null,
   "metadata": {},
   "outputs": [],
   "source": [
    "line = ...\n",
    "plt.plot(line)"
   ]
  },
  {
   "cell_type": "markdown",
   "metadata": {},
   "source": [
    "### Aufgabe 5: Histogramm und Histogramm Ausgleich\n",
    "\n",
    "Das folgenden Bild hat einen schlechten Kontrast. Grauwert Bilder werden per default von OpenCV als 3-Kanal Bilder geladen. Was ist der minimale und maximale Pixelwert im Bild?"
   ]
  },
  {
   "cell_type": "code",
   "execution_count": null,
   "metadata": {},
   "outputs": [],
   "source": [
    "einstein = cv2.imread('images/EinsteinLowContrast.tif')\n",
    "einstein_grey = cv2.cvtColor(einstein, cv2.COLOR_BGR2GRAY)\n",
    "plt.imshow(einstein, cmap='gray')\n",
    "\n",
    "min = ...\n",
    "max = ...\n",
    "print('min: {}, max: {}'.format(min, max))"
   ]
  },
  {
   "cell_type": "markdown",
   "metadata": {},
   "source": [
    "Stellen Sie das Histogramm des Bildes dar. Benutzen Sie dazu die OpenCV Funktion `cv2.calcHist(...)`. Benutzen Sie die OpenCV Dokumentation um die Parameter der Funktion zu ermitteln.\n"
   ]
  },
  {
   "cell_type": "code",
   "execution_count": null,
   "metadata": {},
   "outputs": [],
   "source": [
    "hist = \n",
    "plt.plot(hist)"
   ]
  },
  {
   "cell_type": "markdown",
   "metadata": {},
   "source": [
    "Führen Sie einen Histogram Ausgleich mit der Funktion `equalizeHist(...)` durch und stellen Sie das Bild und das Histogram des veränderten Bildes dar."
   ]
  },
  {
   "cell_type": "code",
   "execution_count": null,
   "metadata": {},
   "outputs": [],
   "source": [
    "einstein_equal = \n",
    "hist2 = \n",
    "plt.subplot(1, 2, 1)\n",
    "plt.plot(hist2)\n",
    "plt.subplot(1, 2, 2)\n",
    "plt.imshow(np.stack([einstein_equal, einstein_equal, einstein_equal], axis=2))\n"
   ]
  },
  {
   "cell_type": "markdown",
   "metadata": {},
   "source": [
    "### Aufgabe 6: Punktbildfunktionen\n",
    "\n",
    "In der nächsten Zelle ist eine Funktion definert, die als Eingabe ein Bild enthält, und ein verändertes Bild zurückgibt. Ändern Sie die Funktion, sodass das Bild heller (oder dunkler) wird."
   ]
  },
  {
   "cell_type": "code",
   "execution_count": null,
   "metadata": {},
   "outputs": [],
   "source": [
    "def f(x):\n",
    "    # change function to \n",
    "    return x"
   ]
  },
  {
   "cell_type": "code",
   "execution_count": null,
   "metadata": {},
   "outputs": [],
   "source": [
    "result = f(einstein_grey)"
   ]
  }
 ],
 "metadata": {
  "kernelspec": {
   "display_name": "Python 3",
   "language": "python",
   "name": "python3"
  },
  "language_info": {
   "codemirror_mode": {
    "name": "ipython",
    "version": 3
   },
   "file_extension": ".py",
   "mimetype": "text/x-python",
   "name": "python",
   "nbconvert_exporter": "python",
   "pygments_lexer": "ipython3",
   "version": "3.6.3"
  }
 },
 "nbformat": 4,
 "nbformat_minor": 1
}
